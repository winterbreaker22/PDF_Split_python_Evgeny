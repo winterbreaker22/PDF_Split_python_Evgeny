{
 "cells": [
  {
   "cell_type": "markdown",
   "metadata": {
    "id": "mwvXgSP3hQPl"
   },
   "source": []
  },
  {
   "cell_type": "code",
   "execution_count": null,
   "metadata": {},
   "outputs": [],
   "source": [
    "\n",
    "pip install pymupdf\n"
   ]
  },
  {
   "cell_type": "code",
   "execution_count": null,
   "metadata": {},
   "outputs": [],
   "source": [
    "%run -m unittest discover -s . -p 'test_pdf_processor.py'"
   ]
  },
  {
   "cell_type": "code",
   "execution_count": null,
   "metadata": {},
   "outputs": [],
   "source": [
    "import importlib\n",
    "import test_failures\n",
    "importlib.reload(test_failures)\n",
    "#%run -m unittest discover -s . -p 'test_failures.py'\n"
   ]
  },
  {
   "cell_type": "code",
   "execution_count": null,
   "metadata": {},
   "outputs": [],
   "source": [
    "from importlib import reload\n",
    "import pdf_processor\n",
    "reload(pdf_processor)\n",
    "\n",
    "# Main execution\n",
    "if __name__ == \"__main__\":\n",
    "    config = pdf_processor.read_config()\n",
    "    pdf_processor.delete_output_folder(config)\n",
    "    output_folder = pdf_processor.initialize_output_folder(config, 'output_folder')\n",
    "    csv_log_path = pdf_processor.initialize_csv_log(output_folder, config)\n",
    "\n",
    "    # Extract and process chapter content from PDF\n",
    "    pdf_processor.process_chapter_content(config, csv_log_path)"
   ]
  }
 ],
 "metadata": {
  "colab": {
   "provenance": []
  },
  "kernelspec": {
   "display_name": "Python 3",
   "name": "python3"
  },
  "language_info": {
   "codemirror_mode": {
    "name": "ipython",
    "version": 3
   },
   "file_extension": ".py",
   "mimetype": "text/x-python",
   "name": "python",
   "nbconvert_exporter": "python",
   "pygments_lexer": "ipython3",
   "version": "3.9.19"
  }
 },
 "nbformat": 4,
 "nbformat_minor": 0
}
